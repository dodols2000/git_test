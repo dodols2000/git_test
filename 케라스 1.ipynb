{
 "cells": [
  {
   "cell_type": "code",
   "execution_count": 16,
   "metadata": {},
   "outputs": [],
   "source": [
    "%config Completer.use_jedi=False\n",
    "import matplotlib.pyplot as plt\n",
    "import numpy as np\n",
    "from keras.layers import *\n",
    "from keras.models import *\n",
    "from keras.utils import *\n",
    "from collections import Counter\n",
    "\n",
    "\n"
   ]
  },
  {
   "cell_type": "code",
   "execution_count": 18,
   "metadata": {},
   "outputs": [
    {
     "name": "stdout",
     "output_type": "stream",
     "text": [
      "_________________________________________________________________\n",
      "Layer (type)                 Output Shape              Param #   \n",
      "=================================================================\n",
      "dense_5 (Dense)              (None, 1)                 2         \n",
      "=================================================================\n",
      "Total params: 2\n",
      "Trainable params: 2\n",
      "Non-trainable params: 0\n",
      "_________________________________________________________________\n",
      "Epoch 1/20\n",
      "1000/1000 [==============================] - 0s 129us/step - loss: 3.7828\n",
      "Epoch 2/20\n",
      "1000/1000 [==============================] - 0s 26us/step - loss: 0.0082\n",
      "Epoch 3/20\n",
      "1000/1000 [==============================] - 0s 26us/step - loss: 0.0065\n",
      "Epoch 4/20\n",
      "1000/1000 [==============================] - 0s 22us/step - loss: 0.0051\n",
      "Epoch 5/20\n",
      "1000/1000 [==============================] - 0s 25us/step - loss: 0.0041\n",
      "Epoch 6/20\n",
      "1000/1000 [==============================] - 0s 21us/step - loss: 0.0033\n",
      "Epoch 7/20\n",
      "1000/1000 [==============================] - 0s 20us/step - loss: 0.0026\n",
      "Epoch 8/20\n",
      "1000/1000 [==============================] - 0s 22us/step - loss: 0.0021\n",
      "Epoch 9/20\n",
      "1000/1000 [==============================] - 0s 20us/step - loss: 0.0016\n",
      "Epoch 10/20\n",
      "1000/1000 [==============================] - 0s 22us/step - loss: 0.0013\n",
      "Epoch 11/20\n",
      "1000/1000 [==============================] - 0s 22us/step - loss: 0.0010\n",
      "Epoch 12/20\n",
      "1000/1000 [==============================] - 0s 22us/step - loss: 8.2614e-04\n",
      "Epoch 13/20\n",
      "1000/1000 [==============================] - 0s 22us/step - loss: 6.5232e-04\n",
      "Epoch 14/20\n",
      "1000/1000 [==============================] - 0s 21us/step - loss: 5.1831e-04\n",
      "Epoch 15/20\n",
      "1000/1000 [==============================] - 0s 21us/step - loss: 4.1397e-04\n",
      "Epoch 16/20\n",
      "1000/1000 [==============================] - 0s 20us/step - loss: 3.2862e-04\n",
      "Epoch 17/20\n",
      "1000/1000 [==============================] - 0s 22us/step - loss: 2.6388e-04\n",
      "Epoch 18/20\n",
      "1000/1000 [==============================] - 0s 21us/step - loss: 2.0935e-04\n",
      "Epoch 19/20\n",
      "1000/1000 [==============================] - 0s 22us/step - loss: 1.6667e-04\n",
      "Epoch 20/20\n",
      "1000/1000 [==============================] - 0s 22us/step - loss: 1.3039e-04\n",
      "[12. 14.]\n"
     ]
    },
    {
     "data": {
      "image/png": "[encoded data removed]",
      "text/plain": [
       "<Figure size 432x288 with 1 Axes>"
      ]
     },
     "metadata": {
      "needs_background": "light"
     },
     "output_type": "display_data"
    },
    {
     "name": "stdout",
     "output_type": "stream",
     "text": [
      "[array([[1.99594]], dtype=float32), array([0.02495323], dtype=float32)]\n"
     ]
    }
   ],
   "source": [
    "x = np.linspace(1,10,1000)\n",
    "y = 2*x*1\n",
    "\n",
    "model = Sequential()\n",
    "## 하나의 hidden 레이어 추가 fully connected\n",
    "## 다음레이어에 있는 뉴런의 숫자 1\n",
    "## input_shape feature 의 개수\n",
    "model.add(Dense(1,activation='relu',input_shape=(1,)))\n",
    "model.summary()\n",
    "## 에러함수와 옵티마이저를 정의\n",
    "## 단 4줄로 퍼셉트론 정의\n",
    "model.compile(loss='mse', optimizer='sgd')\n",
    "\n",
    "# 20번 training \n",
    "model.fit(x,y,epochs=20)\n",
    "\n",
    "pred_x =[]\n",
    "pred_x = np.append(pred_x, 12)\n",
    "pred_x = np.append(pred_x, 14)\n",
    "print(pred_x)\n",
    "\n",
    "pred_y = model.predict(pred_x)\n",
    "\n",
    "\n",
    "plt.plot(x,y)\n",
    "plt.scatter(pred_x, pred_y)\n",
    "plt.show()\n",
    "\n",
    "\n",
    "print(model.get_weights())\n",
    "\n"
   ]
  },
  {
   "cell_type": "code",
   "execution_count": null,
   "metadata": {},
   "outputs": [],
   "source": []
  }
 ],
 "metadata": {
  "kernelspec": {
   "display_name": "Python 3",
   "language": "python",
   "name": "python3"
  },
  "language_info": {
   "codemirror_mode": {
    "name": "ipython",
    "version": 3
   },
   "file_extension": ".py",
   "mimetype": "text/x-python",
   "name": "python",
   "nbconvert_exporter": "python",
   "pygments_lexer": "ipython3",
   "version": "3.6.8"
  }
 },
 "nbformat": 4,
 "nbformat_minor": 2
}
