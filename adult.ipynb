{
 "cells": [
  {
   "cell_type": "code",
   "execution_count": 65,
   "metadata": {},
   "outputs": [],
   "source": [
    "%matplotlib inline\n",
    "import matplotlib.pyplot as plt\n",
    "import numpy as np\n",
    "import pandas as pd\n",
    "from keras.layers import *\n",
    "from keras.models import *\n",
    "from keras.utils import *\n",
    "from sklearn.preprocessing import *\n",
    "import seaborn as sns\n"
   ]
  },
  {
   "cell_type": "code",
   "execution_count": 53,
   "metadata": {},
   "outputs": [
    {
     "data": {
      "text/plain": [
       "age              False\n",
       "workclass        False\n",
       "fnlwgt           False\n",
       "education        False\n",
       "education-num    False\n",
       "mari             False\n",
       "occupation       False\n",
       "relationship     False\n",
       "race             False\n",
       "sex              False\n",
       "cg               False\n",
       "cl               False\n",
       "hw               False\n",
       "na               False\n",
       "5k               False\n",
       "dtype: bool"
      ]
     },
     "execution_count": 53,
     "metadata": {},
     "output_type": "execute_result"
    }
   ],
   "source": [
    "# age: continuous. \n",
    "# workclass: Private, Self-emp-not-inc, Self-emp-inc, Federal-gov, Local-gov, State-gov, Without-pay, Never-worked. \n",
    "# fnlwgt: continuous. \n",
    "# education: Bachelors, Some-college, 11th, HS-grad, Prof-school, Assoc-acdm, Assoc-voc, 9th, 7th-8th, 12th, Masters, 1st-4th, 10th, Doctorate, 5th-6th, Preschool. \n",
    "# education-num: continuous. \n",
    "# marital-status: Married-civ-spouse, Divorced, Never-married, Separated, Widowed, Married-spouse-absent, Married-AF-spouse. \n",
    "# occupation: Tech-support, Craft-repair, Other-service, Sales, Exec-managerial, Prof-specialty, Handlers-cleaners, Machine-op-inspct, Adm-clerical, Farming-fishing, Transport-moving, Priv-house-serv, Protective-serv, Armed-Forces. \n",
    "# relationship: Wife, Own-child, Husband, Not-in-family, Other-relative, Unmarried. \n",
    "# race: White, Asian-Pac-Islander, Amer-Indian-Eskimo, Other, Black. \n",
    "# sex: Female, Male. \n",
    "# capital-gain: continuous. \n",
    "# capital-loss: continuous. \n",
    "# hours-per-week: continuous. \n",
    "# native-country: United-States, Cambodia, England, Puerto-Rico, Canada, Germany, Outlying-US(Guam-USVI-etc), India, Japan, Greece, South, China, Cuba, Iran, Honduras, Philippines, Italy, Poland, Jamaica, Vietnam, Mexico, Portugal, Ireland, France, Dominican-Republic, Laos, Ecuador, Taiwan, Haiti, Columbia, Hungary, Guatemala, Nicaragua, Scotland, Thailand, Yugoslavia, El-Salvador, Trinadad&Tobago, Peru, Hong, Holand-Netherlands.\n",
    "['age','workclass','fnlwgt','education','education-num','mari','occupation','relationship','race','sex','cg','cl','hw','na','5k']\n",
    "df = pd.read_csv('adult.data', index_col = False,\n",
    "        names=['age','workclass','fnlwgt','education','education-num','mari','occupation',\n",
    "               'relationship','race','sex','cg','cl','hw','na','5k'])\n",
    "df.head()\n",
    "df.describe()\n",
    "# df.count()\n",
    "df.isnull().any()"
   ]
  },
  {
   "cell_type": "code",
   "execution_count": 54,
   "metadata": {},
   "outputs": [
    {
     "data": {
      "text/plain": [
       "<matplotlib.axes._subplots.AxesSubplot at 0x2062d037198>"
      ]
     },
     "execution_count": 54,
     "metadata": {},
     "output_type": "execute_result"
    },
    {
     "data": {
      "image/png": "[encoded data removed]",
      "text/plain": [
       "<Figure size 432x288 with 1 Axes>"
      ]
     },
     "metadata": {
      "needs_background": "light"
     },
     "output_type": "display_data"
    }
   ],
   "source": [
    "# sns.countplot('5k',hue='sex',data=df)\n",
    "# sns.heatmap(df.corr(), annot=True, cmap='summer_r', linewidths=0.2)\n",
    "sns.violinplot('race','age', hue='5k', data=df, split=True)\n"
   ]
  },
  {
   "cell_type": "code",
   "execution_count": 55,
   "metadata": {},
   "outputs": [
    {
     "name": "stdout",
     "output_type": "stream",
     "text": [
      "[[0. 1.]\n",
      " [0. 1.]\n",
      " [0. 1.]\n",
      " ...\n",
      " [0. 1.]\n",
      " [0. 1.]\n",
      " [1. 0.]]\n"
     ]
    }
   ],
   "source": [
    "Y = df['5k'].values.tolist()\n",
    "Y = [1 if i == ' <=50K' else 0 for i in Y]\n",
    "Y= to_categorical(Y)\n",
    "print(Y)"
   ]
  },
  {
   "cell_type": "code",
   "execution_count": 56,
   "metadata": {},
   "outputs": [
    {
     "name": "stderr",
     "output_type": "stream",
     "text": [
      "C:\\Users\\dodol\\Anaconda3\\lib\\site-packages\\sklearn\\preprocessing\\data.py:323: DataConversionWarning: Data with input dtype int64 were all converted to float64 by MinMaxScaler.\n",
      "  return self.partial_fit(X, y)\n"
     ]
    }
   ],
   "source": [
    "df.head()\n",
    "# ['age','fnlwgt','education-num','cg','cl','hw']\n",
    "X = df.drop(['age','fnlwgt','education-num','cg','cl','hw','5k'], axis=1)\n",
    "X = pd.get_dummies(X, drop_first=True)\n",
    "X = pd.concat([X, df[['age','fnlwgt','education-num','cg','cl','hw']]], axis=1)\n",
    "scaler = MinMaxScaler()\n",
    "X[['age','fnlwgt','education-num','cg','cl','hw']] = scaler.fit_transform(X[['age','fnlwgt','education-num','cg','cl','hw']])\n",
    "\n",
    "\n"
   ]
  },
  {
   "cell_type": "code",
   "execution_count": 59,
   "metadata": {},
   "outputs": [
    {
     "data": {
      "text/plain": [
       "(31561, 100)"
      ]
     },
     "execution_count": 59,
     "metadata": {},
     "output_type": "execute_result"
    }
   ],
   "source": [
    "X_train = X[:-1000]\n",
    "X_test = X[-1000:]\n",
    "\n",
    "Y_train = Y[:-1000]\n",
    "Y_test = Y[-1000:]\n",
    "\n",
    "X_train.shape\n",
    "# X_test.shape"
   ]
  },
  {
   "cell_type": "code",
   "execution_count": 85,
   "metadata": {},
   "outputs": [
    {
     "name": "stdout",
     "output_type": "stream",
     "text": [
      "_________________________________________________________________\n",
      "Layer (type)                 Output Shape              Param #   \n",
      "=================================================================\n",
      "dense_9 (Dense)              (None, 1024)              103424    \n",
      "_________________________________________________________________\n",
      "dense_10 (Dense)             (None, 512)               524800    \n",
      "_________________________________________________________________\n",
      "dense_11 (Dense)             (None, 128)               65664     \n",
      "_________________________________________________________________\n",
      "dense_12 (Dense)             (None, 2)                 258       \n",
      "=================================================================\n",
      "Total params: 694,146\n",
      "Trainable params: 694,146\n",
      "Non-trainable params: 0\n",
      "_________________________________________________________________\n",
      "Train on 25248 samples, validate on 6313 samples\n",
      "Epoch 1/5\n",
      "25248/25248 [==============================] - 15s 576us/step - loss: 0.3564 - acc: 0.8333 - val_loss: 0.3464 - val_acc: 0.8446\n",
      "Epoch 2/5\n",
      "25248/25248 [==============================] - 14s 540us/step - loss: 0.3291 - acc: 0.8475 - val_loss: 0.3615 - val_acc: 0.8330\n",
      "Epoch 3/5\n",
      "25248/25248 [==============================] - 13s 532us/step - loss: 0.3194 - acc: 0.8502 - val_loss: 0.3187 - val_acc: 0.8505\n",
      "Epoch 4/5\n",
      "25248/25248 [==============================] - 14s 544us/step - loss: 0.3107 - acc: 0.8564 - val_loss: 0.3259 - val_acc: 0.8487\n",
      "Epoch 5/5\n",
      "25248/25248 [==============================] - 13s 522us/step - loss: 0.3035 - acc: 0.8567 - val_loss: 0.3187 - val_acc: 0.8528\n"
     ]
    }
   ],
   "source": [
    "model = Sequential()\n",
    "model.add(Dense(1024,activation='relu', input_shape=(100,)))\n",
    "model.add(Dense(512, activation='relu'))\n",
    "model.add(Dense(128, activation='relu'))\n",
    "model.add(Dense(2, activation='softmax'))\n",
    "\n",
    "model.summary()\n",
    "\n",
    "#adam 이라는 옵티마이저를 많이 사용한다 \n",
    "model.compile(loss='categorical_crossentropy', optimizer='adam', metrics=['accuracy'])\n",
    "hist = model.fit(X_train, Y_train, epochs=5, validation_split=0.2)"
   ]
  },
  {
   "cell_type": "code",
   "execution_count": 86,
   "metadata": {},
   "outputs": [
    {
     "data": {
      "text/plain": [
       "Text(0.5, 1.0, 'loss')"
      ]
     },
     "execution_count": 86,
     "metadata": {},
     "output_type": "execute_result"
    },
    {
     "data": {
      "image/png": "[encoded data removed]",
      "text/plain": [
       "<Figure size 720x720 with 2 Axes>"
      ]
     },
     "metadata": {
      "needs_background": "light"
     },
     "output_type": "display_data"
    }
   ],
   "source": [
    "plt.figure(figsize=(10,10))\n",
    "plt.subplot(1,2,1)\n",
    "plt.plot(hist.history['acc'], color='r')\n",
    "plt.plot(hist.history['val_acc'], color='b')\n",
    "plt.title('acc')\n",
    "\n",
    "plt.subplot(1,2,2)\n",
    "plt.plot(hist.history['loss'], color='r')\n",
    "plt.plot(hist.history['val_loss'], color='b')\n",
    "plt.title('loss')"
   ]
  },
  {
   "cell_type": "code",
   "execution_count": 88,
   "metadata": {},
   "outputs": [
    {
     "name": "stdout",
     "output_type": "stream",
     "text": [
      "1000/1000 [==============================] - 0s 97us/step\n"
     ]
    },
    {
     "data": {
      "text/plain": [
       "[array([[ 0.05155745, -0.05746863,  0.04420027, ...,  0.00321604,\n",
       "         -0.06176535,  0.04324489],\n",
       "        [-0.10998186, -0.14290898,  0.06633119, ...,  0.00551178,\n",
       "         -0.0175522 ,  0.05504064],\n",
       "        [-0.02772384,  0.04268664, -0.03682583, ..., -0.03299488,\n",
       "         -0.02492749,  0.08110207],\n",
       "        ...,\n",
       "        [ 1.0260855 , -0.4678706 ,  0.18638523, ..., -0.9887783 ,\n",
       "          0.12806378, -0.03662422],\n",
       "        [ 0.21041459, -0.04783467, -0.00773458, ..., -0.05570867,\n",
       "         -0.03285465, -0.10159177],\n",
       "        [ 0.01273007, -0.0614066 , -0.03767991, ..., -0.1130993 ,\n",
       "         -0.00198293, -0.05130752]], dtype=float32),\n",
       " array([-0.03278187, -0.00174484, -0.05592885, ...,  0.02020612,\n",
       "        -0.04161041, -0.00238502], dtype=float32),\n",
       " array([[ 0.0214547 ,  0.00498134, -0.0651814 , ..., -0.05605417,\n",
       "          0.05199493, -0.05446291],\n",
       "        [ 0.0199643 , -0.01556228,  0.01975688, ...,  0.03157746,\n",
       "          0.00109764,  0.00699867],\n",
       "        [-0.04903108,  0.00096708,  0.01639945, ...,  0.04686426,\n",
       "         -0.0168422 ,  0.02730943],\n",
       "        ...,\n",
       "        [-0.06924804, -0.013056  ,  0.01739182, ..., -0.02903094,\n",
       "         -0.10893141,  0.01218569],\n",
       "        [-0.08115265,  0.05282542,  0.07114403, ..., -0.00890004,\n",
       "          0.05646565,  0.01126895],\n",
       "        [-0.02847606, -0.03197185, -0.00100098, ..., -0.02893234,\n",
       "          0.02637984, -0.06985272]], dtype=float32),\n",
       " array([-0.02895072, -0.02013937, -0.02749703, -0.0251834 ,  0.00112359,\n",
       "        -0.01849349, -0.03089629, -0.01871237, -0.02613717, -0.00013669,\n",
       "        -0.05321172, -0.01886565, -0.0162632 , -0.01082997, -0.06443749,\n",
       "        -0.03021973, -0.04484884, -0.00988202, -0.0292897 , -0.00563803,\n",
       "        -0.02750765, -0.01378574, -0.00761744, -0.0217326 , -0.03077774,\n",
       "        -0.0415664 , -0.03569164, -0.03281102, -0.01829812, -0.02122439,\n",
       "        -0.05548799,  0.01086555, -0.04324878, -0.00933701, -0.02485531,\n",
       "        -0.02788336, -0.02114172, -0.03312082, -0.04030912, -0.0082028 ,\n",
       "        -0.01209357, -0.0204448 , -0.02782765,  0.00389937, -0.02841452,\n",
       "        -0.01103255, -0.03146469, -0.05295251, -0.01487009,  0.01570998,\n",
       "        -0.02376709, -0.01209786, -0.01905992, -0.02553781, -0.01086849,\n",
       "        -0.01671806, -0.01686217, -0.00130111, -0.01828675,  0.02559044,\n",
       "        -0.04118979, -0.03312014, -0.03662842,  0.00215255, -0.03752487,\n",
       "        -0.02004805, -0.01370311, -0.03163631, -0.0199928 , -0.01988951,\n",
       "        -0.00650046, -0.02120745,  0.02251723, -0.02309342,  0.02485125,\n",
       "        -0.00733137, -0.03559987, -0.00583074, -0.05831711, -0.01400007,\n",
       "        -0.02296457, -0.01754228, -0.01508799, -0.0221898 , -0.02134984,\n",
       "         0.0006568 , -0.00809332, -0.01403558,  0.03475298, -0.02705426,\n",
       "        -0.03429027, -0.01489129, -0.01961182, -0.01909372, -0.0592975 ,\n",
       "        -0.01310409, -0.02295793,  0.0394695 , -0.0195238 , -0.02492698,\n",
       "        -0.03603277, -0.01777327, -0.0332206 , -0.03422497, -0.0145239 ,\n",
       "        -0.03706709,  0.00799804,  0.00429498, -0.00924312, -0.02618265,\n",
       "        -0.01004688, -0.01444483, -0.04754332, -0.04631642, -0.02945137,\n",
       "        -0.04709581, -0.007218  , -0.01118034, -0.00165522, -0.00683005,\n",
       "        -0.02619167, -0.02013805, -0.03234028, -0.02500393, -0.0126881 ,\n",
       "        -0.02526416, -0.0094131 , -0.00482208, -0.05143241, -0.02119   ,\n",
       "        -0.04916912, -0.01582862, -0.02751079, -0.0147505 ,  0.01213248,\n",
       "        -0.02293896, -0.0198107 , -0.01870843,  0.0072778 , -0.0363261 ,\n",
       "        -0.02996243, -0.0147981 , -0.01448541,  0.011964  ,  0.01642266,\n",
       "        -0.01182023, -0.01877277,  0.01663896, -0.01333494, -0.01912648,\n",
       "        -0.02872976, -0.00820808, -0.01209388, -0.09258924, -0.01729917,\n",
       "        -0.01476309, -0.03499624, -0.04061233,  0.00510925, -0.02645503,\n",
       "        -0.03100208, -0.00043626, -0.01265172, -0.01935576,  0.01969644,\n",
       "        -0.02314305,  0.00422717, -0.01462602, -0.03756786, -0.03512965,\n",
       "        -0.02232494, -0.02105279, -0.02244617, -0.03109049, -0.02728007,\n",
       "        -0.07731924, -0.03492558, -0.00920806, -0.00316142, -0.01672627,\n",
       "        -0.00047662,  0.0077625 ,  0.00749195, -0.03449261, -0.01943703,\n",
       "        -0.04818497, -0.05021729, -0.02151077,  0.00086206, -0.02482894,\n",
       "        -0.01667994,  0.00098916, -0.01935213, -0.02596842, -0.03504768,\n",
       "        -0.02014619, -0.01029272, -0.03048621, -0.00667029, -0.02436404,\n",
       "        -0.01103902, -0.02631941,  0.00196767, -0.01105628, -0.03080865,\n",
       "        -0.03079178, -0.0104337 , -0.02063469,  0.00641506, -0.03518029,\n",
       "        -0.02927206, -0.01136783, -0.02234105,  0.00722724, -0.02720753,\n",
       "        -0.01166337, -0.04306193, -0.04856674, -0.0133023 ,  0.01700139,\n",
       "         0.01698937, -0.03900984, -0.02829644, -0.02348722, -0.04517611,\n",
       "        -0.02039602, -0.0153346 , -0.027343  , -0.05236376, -0.00219402,\n",
       "        -0.02568072, -0.0130285 , -0.01215317, -0.01180988, -0.02004098,\n",
       "        -0.00131534, -0.02850729, -0.02518081, -0.03454227, -0.0250257 ,\n",
       "        -0.02044327, -0.02857325, -0.03544488, -0.01145607, -0.0127799 ,\n",
       "        -0.03448683, -0.04055567, -0.01670099, -0.00571569, -0.00309567,\n",
       "        -0.04498683, -0.03380979,  0.01606985, -0.01387344,  0.02625459,\n",
       "        -0.0327656 ,  0.02950632, -0.05368585, -0.02880899, -0.0189299 ,\n",
       "        -0.030747  , -0.02096634, -0.01933969, -0.016957  , -0.01516338,\n",
       "         0.00051794, -0.0181246 , -0.02652661, -0.02550039, -0.02319841,\n",
       "        -0.01613976, -0.03197974, -0.02295754, -0.02440662, -0.01126725,\n",
       "        -0.00284578, -0.01673963,  0.02959876, -0.01662318, -0.0175033 ,\n",
       "        -0.01549424, -0.032726  , -0.01794332, -0.01871385, -0.06727039,\n",
       "        -0.00639011,  0.04594414, -0.02059972, -0.0091157 , -0.01557171,\n",
       "        -0.00967615,  0.0391537 , -0.0179899 , -0.02391602, -0.00868492,\n",
       "         0.01604214, -0.01448852, -0.0336451 , -0.01737076,  0.00609733,\n",
       "        -0.04558555, -0.00583888, -0.02289684, -0.00601312,  0.00440038,\n",
       "         0.0114239 , -0.01296125, -0.04331551, -0.00641292, -0.01333801,\n",
       "        -0.02008164, -0.02374856, -0.02627796, -0.01295246, -0.03559581,\n",
       "        -0.03341724,  0.03198998, -0.05068184, -0.01440023, -0.0087792 ,\n",
       "        -0.03369481, -0.02294718, -0.07474662, -0.02013258, -0.0219858 ,\n",
       "        -0.01315145, -0.03049475, -0.04807428, -0.02257823, -0.01139951,\n",
       "         0.02356178, -0.02850261,  0.00821588, -0.02434575, -0.03144119,\n",
       "        -0.03132897, -0.03034404,  0.00115738, -0.01595403,  0.02295226,\n",
       "        -0.0081813 , -0.03798319, -0.01615451, -0.02106974,  0.03163563,\n",
       "        -0.03033149, -0.03688442, -0.01604408, -0.02694008, -0.01893015,\n",
       "         0.02006577, -0.03151475,  0.00777261, -0.00730276, -0.02197345,\n",
       "        -0.01743611, -0.02097586, -0.01527131, -0.01424198, -0.01033127,\n",
       "        -0.03414737, -0.02616031, -0.04015834, -0.02867706, -0.0471609 ,\n",
       "        -0.01951698, -0.0086446 , -0.02339781, -0.06011162, -0.02633525,\n",
       "        -0.01673955, -0.03050712, -0.00847136, -0.01930289, -0.01261343,\n",
       "        -0.01242772,  0.01864185, -0.0185785 ,  0.00812886, -0.01160208,\n",
       "        -0.02385745, -0.03427327, -0.01544931, -0.0162367 ,  0.02940339,\n",
       "        -0.01638212, -0.02926592, -0.0324824 , -0.03073916, -0.00404382,\n",
       "        -0.01480708, -0.02328159, -0.00566593,  0.00672043, -0.01104116,\n",
       "        -0.02010958, -0.01573501, -0.03277997, -0.03688785, -0.02042789,\n",
       "        -0.02794035, -0.01137418, -0.02263428, -0.02139478, -0.02669148,\n",
       "        -0.02137372,  0.01262897, -0.01788386, -0.02287648, -0.0165281 ,\n",
       "        -0.03072452, -0.02671481, -0.02752179,  0.02360838, -0.01481112,\n",
       "         0.00597652, -0.02994087, -0.04774125, -0.01814329, -0.02047164,\n",
       "        -0.02121024, -0.01017582, -0.03030428,  0.00235506, -0.01365382,\n",
       "        -0.02640185, -0.00254425, -0.03767005, -0.02372593, -0.0281882 ,\n",
       "        -0.02281684, -0.01469093,  0.00542933, -0.02665291,  0.00825491,\n",
       "        -0.01962185,  0.00082595, -0.01410514, -0.04330229, -0.03206146,\n",
       "        -0.02572838, -0.01555635, -0.02305187, -0.03060414, -0.01348546,\n",
       "        -0.02246317, -0.02189294, -0.00995199, -0.02816844, -0.04127336,\n",
       "         0.01859973, -0.024858  , -0.01293029, -0.01198875, -0.02076662,\n",
       "        -0.0387591 , -0.0174236 ,  0.00072854, -0.02728271,  0.00805968,\n",
       "        -0.02221586, -0.0257315 , -0.01268555, -0.02004454, -0.02597736,\n",
       "        -0.07244544,  0.0009541 ,  0.00066346, -0.01609268, -0.01259715,\n",
       "         0.00364065, -0.02151653, -0.02951086, -0.01497071,  0.02805477,\n",
       "        -0.03045216, -0.02690948, -0.01512832, -0.05948443, -0.01921557,\n",
       "         0.00628129, -0.02984968, -0.04422788, -0.01463746,  0.01128148,\n",
       "        -0.03044047, -0.04370991, -0.03310939, -0.07754637, -0.02534084,\n",
       "        -0.03629648, -0.03013448,  0.00558647, -0.01381937, -0.01280016,\n",
       "        -0.04101526, -0.02373452, -0.00177746, -0.02548628, -0.02616411,\n",
       "        -0.01814129, -0.00769073, -0.02030662, -0.05336758, -0.01922341,\n",
       "        -0.01332154, -0.0120037 , -0.01183525, -0.01481308, -0.04901806,\n",
       "         0.00915809, -0.04296883], dtype=float32),\n",
       " array([[-0.0122779 , -0.02109477, -0.05268594, ...,  0.05136104,\n",
       "         -0.05973437, -0.03413006],\n",
       "        [-0.00902413,  0.05761888,  0.09235425, ..., -0.05180698,\n",
       "         -0.05308684,  0.04056455],\n",
       "        [ 0.05518517, -0.10281662, -0.04200104, ..., -0.06276878,\n",
       "         -0.09138391, -0.08861163],\n",
       "        ...,\n",
       "        [ 0.02176983, -0.00816172, -0.0778386 , ...,  0.07088688,\n",
       "          0.0760895 , -0.05483717],\n",
       "        [-0.08539272, -0.03095821,  0.00258821, ...,  0.02472655,\n",
       "         -0.07670376, -0.12309998],\n",
       "        [-0.02102705,  0.07538644, -0.06926873, ...,  0.00719094,\n",
       "          0.01915651, -0.05456545]], dtype=float32),\n",
       " array([ 0.02468323, -0.03736428,  0.0178932 , -0.01893245, -0.0078351 ,\n",
       "        -0.01171341,  0.02162619, -0.00737205, -0.02260767, -0.03058991,\n",
       "        -0.01536122, -0.02629217, -0.01907486, -0.04215824, -0.0348843 ,\n",
       "        -0.03173428, -0.0376844 , -0.00910361,  0.01667222, -0.02611022,\n",
       "        -0.03697799, -0.02996643, -0.00974041,  0.01078644, -0.02900503,\n",
       "        -0.03132897, -0.01940162, -0.0150544 , -0.06504928, -0.00812221,\n",
       "        -0.03903399, -0.04228302, -0.00607132, -0.03981502, -0.01584944,\n",
       "        -0.02374953,  0.03789334, -0.0364766 , -0.0247563 , -0.02537982,\n",
       "        -0.01674752, -0.01501418, -0.05020406, -0.00761865, -0.03034776,\n",
       "        -0.00104797,  0.00059296,  0.00557982,  0.00977391, -0.02805947,\n",
       "        -0.03083109, -0.02230008, -0.03877811, -0.01879756,  0.00587666,\n",
       "        -0.02562897, -0.01998203,  0.0022956 , -0.02960153, -0.03646774,\n",
       "        -0.02521419, -0.00920402,  0.00352728, -0.03335355, -0.04103103,\n",
       "         0.02270169, -0.04387858, -0.03675101, -0.02950363, -0.00987506,\n",
       "         0.04210386, -0.02012181, -0.00304286, -0.01801616, -0.02346889,\n",
       "         0.03834484, -0.03671318, -0.02389111, -0.05993722, -0.04059088,\n",
       "        -0.01322742,  0.03182962,  0.01188966, -0.02277265, -0.00503203,\n",
       "        -0.01926163, -0.04130788,  0.03395865, -0.01939211, -0.00976649,\n",
       "         0.02392801,  0.00604062, -0.01750993, -0.02467105, -0.03077996,\n",
       "        -0.01878237,  0.02616434,  0.00626751,  0.03022952, -0.02696478,\n",
       "        -0.02247001,  0.00998305, -0.03452282,  0.00063228,  0.0565115 ,\n",
       "         0.02144009, -0.05288574, -0.02219115,  0.02214499, -0.01912177,\n",
       "        -0.04121168, -0.00352509, -0.03312689,  0.02496571, -0.02527123,\n",
       "        -0.00514518, -0.02327773, -0.02319991, -0.0111914 , -0.01910346,\n",
       "         0.01826394, -0.03066314, -0.01866409, -0.03689006, -0.01233245,\n",
       "        -0.05683353, -0.00075558, -0.02635013], dtype=float32),\n",
       " array([[-0.03933305,  0.1176649 ],\n",
       "        [ 0.12308789,  0.14817949],\n",
       "        [-0.01911447,  0.01918254],\n",
       "        [-0.19716106, -0.1955348 ],\n",
       "        [ 0.00941898, -0.13660534],\n",
       "        [ 0.06786789, -0.13756733],\n",
       "        [ 0.02238642,  0.11262357],\n",
       "        [ 0.08449252, -0.06287269],\n",
       "        [ 0.13507748,  0.09330165],\n",
       "        [ 0.06551608,  0.0676569 ],\n",
       "        [ 0.08170111,  0.08104675],\n",
       "        [-0.05480671, -0.09929543],\n",
       "        [ 0.01035177, -0.09626348],\n",
       "        [ 0.12964089,  0.00523907],\n",
       "        [ 0.18213327, -0.17773385],\n",
       "        [ 0.04173217,  0.02234964],\n",
       "        [-0.11774551, -0.1782508 ],\n",
       "        [ 0.01358243,  0.02002532],\n",
       "        [-0.06574456, -0.02091475],\n",
       "        [ 0.13871832,  0.04965053],\n",
       "        [-0.12856996, -0.12604791],\n",
       "        [-0.06553158, -0.07208788],\n",
       "        [-0.12639365, -0.12945567],\n",
       "        [ 0.1971651 , -0.11790722],\n",
       "        [ 0.08512545,  0.15423016],\n",
       "        [ 0.05529138,  0.06501763],\n",
       "        [ 0.17009169, -0.11805709],\n",
       "        [ 0.06584458, -0.03397273],\n",
       "        [ 0.11230137,  0.08036313],\n",
       "        [-0.03942879, -0.15994489],\n",
       "        [ 0.01349451, -0.09200905],\n",
       "        [-0.07958584, -0.08463494],\n",
       "        [-0.202779  ,  0.04684209],\n",
       "        [-0.0752068 ,  0.01295494],\n",
       "        [ 0.01635856, -0.07069546],\n",
       "        [-0.1290398 ,  0.02667196],\n",
       "        [-0.16125536,  0.16819718],\n",
       "        [-0.11984098, -0.10153072],\n",
       "        [-0.07799425, -0.10941885],\n",
       "        [-0.02458695, -0.11142495],\n",
       "        [-0.04305894, -0.14637294],\n",
       "        [-0.06934328, -0.10347611],\n",
       "        [ 0.02453782,  0.1482122 ],\n",
       "        [ 0.00042012, -0.09340767],\n",
       "        [ 0.08977578,  0.10784744],\n",
       "        [-0.04480566, -0.01084364],\n",
       "        [-0.06252045, -0.04364676],\n",
       "        [ 0.0552463 ,  0.05232653],\n",
       "        [-0.08738491, -0.06358303],\n",
       "        [ 0.00951533,  0.13100879],\n",
       "        [-0.04788558,  0.15384877],\n",
       "        [ 0.10489853, -0.0064116 ],\n",
       "        [-0.16294996, -0.1520701 ],\n",
       "        [ 0.07387345,  0.03921158],\n",
       "        [-0.19039364, -0.19316702],\n",
       "        [ 0.19171311,  0.19064789],\n",
       "        [-0.05489445, -0.04239685],\n",
       "        [-0.03833807,  0.19123495],\n",
       "        [-0.05008477, -0.01057672],\n",
       "        [ 0.04443661,  0.04378922],\n",
       "        [ 0.02172917, -0.03320601],\n",
       "        [ 0.13514002,  0.13636613],\n",
       "        [ 0.07600214, -0.1782527 ],\n",
       "        [-0.01712986, -0.09857719],\n",
       "        [ 0.16386503,  0.16248006],\n",
       "        [-0.02644788,  0.02565835],\n",
       "        [-0.065639  ,  0.02373303],\n",
       "        [-0.1438666 , -0.08826505],\n",
       "        [-0.17908438, -0.1917774 ],\n",
       "        [-0.04433303, -0.03942408],\n",
       "        [ 0.11752231, -0.11903861],\n",
       "        [ 0.10102672,  0.09502109],\n",
       "        [-0.11915868, -0.05479117],\n",
       "        [-0.05239004, -0.0788089 ],\n",
       "        [ 0.03574244,  0.03742769],\n",
       "        [-0.08606175,  0.1860923 ],\n",
       "        [-0.02520888, -0.02346327],\n",
       "        [ 0.10293709,  0.11213383],\n",
       "        [-0.07643092,  0.02398288],\n",
       "        [ 0.20000431, -0.06949079],\n",
       "        [ 0.17389846, -0.16219345],\n",
       "        [-0.10238259,  0.03610812],\n",
       "        [-0.05576305, -0.03513782],\n",
       "        [ 0.17042285,  0.16042297],\n",
       "        [-0.11423401,  0.04500574],\n",
       "        [-0.1465951 , -0.02696273],\n",
       "        [-0.10006662, -0.07419723],\n",
       "        [-0.17292155,  0.09801077],\n",
       "        [-0.07431848, -0.07637034],\n",
       "        [ 0.05766666,  0.09542618],\n",
       "        [ 0.13049726,  0.06860439],\n",
       "        [ 0.04569042,  0.0774036 ],\n",
       "        [-0.13898517, -0.05588094],\n",
       "        [-0.17024931, -0.17875694],\n",
       "        [ 0.09906311,  0.02077042],\n",
       "        [-0.04073558, -0.02763037],\n",
       "        [-0.13810287,  0.13857561],\n",
       "        [-0.07199198, -0.06436259],\n",
       "        [-0.0775834 ,  0.10722355],\n",
       "        [ 0.04684501, -0.0782425 ],\n",
       "        [-0.13860734,  0.03858565],\n",
       "        [ 0.15566482, -0.19528839],\n",
       "        [ 0.1577806 ,  0.04718305],\n",
       "        [-0.06778757,  0.00230415],\n",
       "        [ 0.08355114, -0.14953484],\n",
       "        [-0.13221304,  0.08820614],\n",
       "        [ 0.1585382 ,  0.12933585],\n",
       "        [-0.18670708, -0.18731788],\n",
       "        [-0.0704225 ,  0.05052167],\n",
       "        [ 0.04373083,  0.02632136],\n",
       "        [-0.05233784, -0.13228123],\n",
       "        [ 0.0446531 ,  0.04616575],\n",
       "        [ 0.13871256,  0.13460723],\n",
       "        [-0.15572548,  0.03244465],\n",
       "        [-0.14830495, -0.1519955 ],\n",
       "        [-0.1840638 , -0.1883998 ],\n",
       "        [ 0.14871475,  0.14667119],\n",
       "        [ 0.02009665, -0.13359466],\n",
       "        [ 0.02926116, -0.17518824],\n",
       "        [-0.06640372, -0.07017351],\n",
       "        [-0.16358477, -0.01390304],\n",
       "        [-0.11135633, -0.11301998],\n",
       "        [-0.07386302, -0.05563686],\n",
       "        [-0.03251461, -0.03859245],\n",
       "        [-0.19808555,  0.14196613],\n",
       "        [-0.06700899, -0.09327466],\n",
       "        [-0.05707492, -0.06201292],\n",
       "        [ 0.08376107,  0.08377317]], dtype=float32),\n",
       " array([-0.02356297,  0.02356316], dtype=float32)]"
      ]
     },
     "execution_count": 88,
     "metadata": {},
     "output_type": "execute_result"
    }
   ],
   "source": [
    "score = model.evaluate(X_test, Y_test)\n",
    "pred = model.predict(X_test)\n",
    "\n",
    "\n",
    "model.get_weights()"
   ]
  },
  {
   "cell_type": "code",
   "execution_count": null,
   "metadata": {},
   "outputs": [],
   "source": []
  }
 ],
 "metadata": {
  "kernelspec": {
   "display_name": "Python 3",
   "language": "python",
   "name": "python3"
  },
  "language_info": {
   "codemirror_mode": {
    "name": "ipython",
    "version": 3
   },
   "file_extension": ".py",
   "mimetype": "text/x-python",
   "name": "python",
   "nbconvert_exporter": "python",
   "pygments_lexer": "ipython3",
   "version": "3.6.8"
  }
 },
 "nbformat": 4,
 "nbformat_minor": 2
}
